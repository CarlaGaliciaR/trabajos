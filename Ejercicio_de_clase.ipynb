{
  "nbformat": 4,
  "nbformat_minor": 0,
  "metadata": {
    "colab": {
      "provenance": []
    },
    "kernelspec": {
      "name": "python3",
      "display_name": "Python 3"
    },
    "language_info": {
      "name": "python"
    }
  },
  "cells": [
    {
      "cell_type": "markdown",
      "source": [
        "Una empresa dedicada a la comercialización de un producto de mucho éxito quiere determinar el número de unidades que debe comprar con el objetivo de satisfacer la demanda de sus clientes los próximos meses. La distribución de las ventas de los últimos tres años se recoge en la tabla siguiente..."
      ],
      "metadata": {
        "id": "ZSu5c5fnk-NW"
      }
    },
    {
      "cell_type": "code",
      "execution_count": 1,
      "metadata": {
        "colab": {
          "base_uri": "https://localhost:8080/"
        },
        "id": "Y-Vk_V4Tk5BJ",
        "outputId": "072980c6-0d8a-4738-8544-886246609d81"
      },
      "outputs": [
        {
          "output_type": "stream",
          "name": "stdout",
          "text": [
            "Resultados de la simulación:\n",
            "Total de unidades compradas: 1072\n",
            "Total de unidades vendidas: 1566\n",
            "Total de unidades devueltas: 494\n"
          ]
        }
      ],
      "source": [
        "import random\n",
        "\n",
        "def simulate_demand():\n",
        "    return random.randint(100, 600)\n",
        "\n",
        "def simulate_returns(total_units_sold):\n",
        "    return random.randint(0, total_units_sold)\n",
        "\n",
        "def simulate(num_months):\n",
        "    total_units_sold = 0\n",
        "    total_units_purchased = 0\n",
        "    total_returns = 0\n",
        "\n",
        "    for _ in range(num_months):\n",
        "        units_sold = simulate_demand()\n",
        "        units_returns = simulate_returns(total_units_sold)\n",
        "        net_units_needed = units_sold - units_returns\n",
        "\n",
        "        if net_units_needed > 0:\n",
        "            total_units_purchased += net_units_needed\n",
        "            total_units_sold += units_sold\n",
        "            total_returns += units_returns\n",
        "\n",
        "    return total_units_purchased, total_units_sold, total_returns\n",
        "\n",
        "# Ejemplo de simulación para 12 meses\n",
        "num_months = 12\n",
        "total_units_purchased, total_units_sold, total_returns = simulate(num_months)\n",
        "\n",
        "print(\"Resultados de la simulación:\")\n",
        "print(\"Total de unidades compradas:\", total_units_purchased)\n",
        "print(\"Total de unidades vendidas:\", total_units_sold)\n",
        "print(\"Total de unidades devueltas:\", total_returns)\n"
      ]
    }
  ]
}