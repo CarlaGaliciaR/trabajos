{
  "nbformat": 4,
  "nbformat_minor": 0,
  "metadata": {
    "colab": {
      "provenance": []
    },
    "kernelspec": {
      "name": "python3",
      "display_name": "Python 3"
    },
    "language_info": {
      "name": "python"
    }
  },
  "cells": [
    {
      "cell_type": "markdown",
      "source": [
        "La central de un servicio de emergencias dispone de tres teléfonos para atender las llamadas. La duración de las llamadas sigue una distribución normal con los parámetros que recoge la tabla en minutos..."
      ],
      "metadata": {
        "id": "iFj1i3UZmBGq"
      }
    },
    {
      "cell_type": "code",
      "execution_count": 1,
      "metadata": {
        "colab": {
          "base_uri": "https://localhost:8080/"
        },
        "id": "JdxOjW4Ol3HG",
        "outputId": "d71a91b0-3231-4d46-daad-1c47d5f5ba64"
      },
      "outputs": [
        {
          "output_type": "stream",
          "name": "stdout",
          "text": [
            "Tiempo medio de respuesta de la central de emergencias: 2.007525101551055 minutos\n"
          ]
        }
      ],
      "source": [
        "import random\n",
        "import statistics\n",
        "\n",
        "def simular_llamadas():\n",
        "    duraciones = []\n",
        "\n",
        "    # Generar duraciones de llamadas para cada teléfono\n",
        "    duracion_tel1 = random.normalvariate(2.0, 0.4)\n",
        "    duracion_tel2 = random.normalvariate(2.1, 0.3)\n",
        "    duracion_tel3 = random.normalvariate(1.9, 0.5)\n",
        "\n",
        "    duraciones.extend([duracion_tel1, duracion_tel2, duracion_tel3])\n",
        "\n",
        "    return duraciones\n",
        "\n",
        "def simular_central(num_llamadas):\n",
        "    tiempos_respuesta = []\n",
        "\n",
        "    for _ in range(num_llamadas):\n",
        "        duraciones = simular_llamadas()\n",
        "\n",
        "        # Calcular tiempo de respuesta promedio\n",
        "        tiempo_respuesta = statistics.mean(duraciones)\n",
        "        tiempos_respuesta.append(tiempo_respuesta)\n",
        "\n",
        "    tiempo_medio_respuesta = statistics.mean(tiempos_respuesta)\n",
        "    return tiempo_medio_respuesta\n",
        "\n",
        "# Ejemplo de simulación con 1000 llamadas\n",
        "num_llamadas = 1000\n",
        "tiempo_medio_respuesta = simular_central(num_llamadas)\n",
        "\n",
        "print(\"Tiempo medio de respuesta de la central de emergencias:\", tiempo_medio_respuesta, \"minutos\")\n"
      ]
    }
  ]
}