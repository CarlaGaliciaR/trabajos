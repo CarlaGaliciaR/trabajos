{
  "cells": [
    {
      "cell_type": "markdown",
      "metadata": {
        "id": "fsiYEMfzooC0"
      },
      "source": [
        "# Líneas de espera"
      ]
    },
    {
      "cell_type": "markdown",
      "metadata": {
        "id": "1TeFJMaQooC5"
      },
      "source": [
        "Un sistema de colas puede describirse como: “clientes” que llegan buscando un servicio,\n",
        "esperan si este no es inmediato y abandonan el sistema una vez atendidos. En algunos casos\n",
        "se puede admitir que los clientes abandonan el sistema si se cansan de esperar."
      ]
    },
    {
      "cell_type": "markdown",
      "metadata": {
        "id": "FW8w5PF-ooC6"
      },
      "source": [
        "![cola](https://i.imgur.com/3SFzirr.jpg)"
      ]
    },
    {
      "cell_type": "markdown",
      "metadata": {
        "id": "l3ThVVm9ooC7"
      },
      "source": [
        "### Características básicas:\n",
        "\n",
        "* Patrón de llegada de los clientes\n",
        "* Patrón de servicio de los servidores\n",
        "* Disciplina de cola\n",
        "* Capacidad del sistema\n",
        "* Número de canales de servicio\n",
        "* Número de etapas de servicio\n",
        "\n",
        "Aveces se incluyen una séptima característica: la población de posibles clientes."
      ]
    },
    {
      "cell_type": "markdown",
      "metadata": {
        "id": "GnQMQAQjooC8"
      },
      "source": [
        "#### Patrón de llegada\n",
        "\n",
        "En situaciones la llegada depende de cierta variable aleatoria. En este caso es necesario conocer la distribución probabilística entre dos llegadas de cliente sucesivas. Además habría que tener en cuenta si los clientes llegan independiente o simultáneamente. En este segundo caso (es decir, si llegan lotes) habría que definir la distribución\n",
        "probabilística de éstos.\n",
        "\n",
        "También es posible considerar clientes \"impacientes\", que lleguen a la cola y si es demasiado larga se vayan, o que tras esperar mucho rato en la cola decidan abandonar.\n",
        "\n",
        "Es posible también que el patrón de llegada varíe con el tiempo. Si se mantiene constante se llama **estacionario**, si por ejemplo varía con las horas del día es **no-estacionario**."
      ]
    },
    {
      "cell_type": "markdown",
      "metadata": {
        "id": "uMZLPscgooC9"
      },
      "source": [
        "#### Patrones de servicio de los servidores\n",
        "\n",
        "Los servidores pueden tener un tiempo de servicio variable, para definirlo hay que asociarle una función de probabilidad. También pueden atender en lotes o de modo individual.\n",
        "\n",
        "El tiempo de servicio también puede variar con el número de clientes en la cola, trabajando más rápido o más lento, y en este caso se llama patrones de servicio dependientes. Al igual que el patrón de llegadas, el patrón de servicio puede ser no-estacionario, variando con el tiempo transcurrido."
      ]
    },
    {
      "cell_type": "markdown",
      "metadata": {
        "id": "C4beRyB-ooC9"
      },
      "source": [
        "#### Disciplina de cola\n",
        "\n",
        "Es la manera en que los clientes se ordenan en el momento de ser servidos. Cuando se piensa en colas se admite que la disciplina de cola normal es **FIFO** (atender primero a quien llegó primero). Sin embargo en muchas colas es habitual el uso de la disciplina **LIFO** (atender primero al último). También es posible encontrar reglas de secuencia con\n",
        "prioridades, como por ejemplo secuenciar primero las tareas con menor duración o según tipos de clientes.\n",
        "\n",
        "En cualquier caso dos son las situaciones generales en las que trabajar. En la primera, llamada\n",
        "en inglés “preemptive”, si un cliente llega a la cola con una orden de prioridad superior al cliente que\n",
        "está siendo atendido, este se retira dando paso al más importante. Dos nuevos subcasos aparecen: el\n",
        "cliente retirado ha de volver a empezar, o el cliente retorna donde se había quedado. La segunda\n",
        "situación es la denominada “no-preemptive” donde el cliente con mayor prioridad espera a que acabe\n",
        "el que está siendo atendido."
      ]
    },
    {
      "cell_type": "markdown",
      "metadata": {
        "id": "QnDDZrTTooC-"
      },
      "source": [
        "#### Capacidad del sistema\n",
        "\n",
        "En algunos sistemas existe una limitación respecto al número de clientes que pueden esperar en la cola.\n",
        "A estos casos se les denomina situaciones de cola finitas. Esta limitación puede ser considerada como\n",
        "una simplificación en la modelización de la impaciencia de los clientes."
      ]
    },
    {
      "cell_type": "markdown",
      "metadata": {
        "id": "8mSSnO7_ooC_"
      },
      "source": [
        "#### Canales del servicio\n",
        "\n",
        "Es evidente que es preferible utilizar sistemas multiservidos con una única línea de espera para\n",
        "todos que con una cola por servidor. Por tanto, cuando se habla de canales de servicio paralelos, se\n",
        "habla generalmente de una cola que alimenta a varios servidores mientras que el caso de colas\n",
        "independientes se asemeja a múltiples sistemas con sólo un servidor."
      ]
    },
    {
      "cell_type": "markdown",
      "metadata": {
        "id": "7AVRfBHeooC_"
      },
      "source": [
        "#### Etapas de servicio\n",
        "\n",
        "Un sistema de colas puede ser unietapa o multietapa. En los sistemas multietapa el cliente\n",
        "puede pasar por un número de etapas mayor que uno. Una peluquería es un sistema unietapa, salvo\n",
        "que haya diferentes servicios (manicura, maquillaje) y cada uno de estos servicios sea desarrollado por\n",
        "un servidor diferente.\n",
        "En algunos sistemas multietapa se puede admitir la vuelta atrás o “reciclado”, esto es habitual\n",
        "en sistemas productivos como controles de calidad y reprocesos."
      ]
    },
    {
      "cell_type": "markdown",
      "metadata": {
        "id": "VfaUjO4ZooDA"
      },
      "source": [
        "![cola](http://2.bp.blogspot.com/-SOVrqaCruMA/Ub0OdY2zXLI/AAAAAAAAABE/JE7JTCMJaWU/s1600/32136.png)"
      ]
    },
    {
      "cell_type": "markdown",
      "metadata": {
        "id": "UsdE_9H3ooDB"
      },
      "source": [
        "### Notación básica"
      ]
    },
    {
      "cell_type": "markdown",
      "metadata": {
        "id": "pycu-YXwooDB"
      },
      "source": [
        "#### Nomenclatura\n",
        "\n",
        "* $\\lambda$: Número de llegadas por unidad de tiempo.\n",
        "* $\\mu$: Número de servicios por unidad de tiempo si el servidor está ocupado.\n",
        "* $c$: Número de servidores en paralelo.\n",
        "* $\\rho = \\frac{\\lambda}{c \\mu}$: congestión del sistema.\n",
        "* $N(t)$: Número de clientes en el sistema en el instante t.\n",
        "* $N_q(t)$: Número de clientes en la cola en en el instante t.\n",
        "* $N_q(t)$: Número de clientes en la cola en en el instante t.\n",
        "* $N_s(t)$: Número de clientes en servicio en el instante t.\n",
        "* $P_n(t)$: Probabilidad que haya $n$ clientes en el sistema en el instante $t=Pr{N(t)=n}$.\n",
        "* $N$: Número de clientes en el sistema en el estado estable.\n",
        "* $P_n$ : Probabilidad de que haya $n$ clientes en estado estable $P_n=Pr{N=n}$.\n",
        "* $L$ : Número medio de clientes en el sistema.\n",
        "* $L_q$ : Número medio de clientes en la cola.\n",
        "* $T_q$ : Representa el tiempo que un cliente invierte en la cola.\n",
        "* $S$ : Representa el tiempo de servicio.\n",
        "* $T = T_q+S$: Representa el tiempo total que un cliente invierte en el sistema.\n",
        "* $W_q= E[Tq]$: Tiempo medio de espera de los clientes en la cola.\n",
        "* $W=E[T]$: Tiempo medio de estancia de los clientes en el sistema.\n",
        "* $r$: número medio de clientes que se atienden por término medio.\n",
        "* $P_b$: probabilidad de que cualquier servidor esté ocupado."
      ]
    },
    {
      "cell_type": "markdown",
      "metadata": {
        "id": "ydCMA5KrooDC"
      },
      "source": [
        "Con el tiempo se ha adoptado una notación para representar los problemas de colas\n",
        "que consta de 5 símbolos separados por barras.\n",
        "\n",
        "$$ A / B / X / Y / Z $$\n",
        "\n",
        "A: indica la distribución de tiempo entre llegadas consecutivas\n",
        "\n",
        "B: alude al patrón de servicio de servidores\n",
        "\n",
        "X: es el número de canales de servicio\n",
        "\n",
        "Y: es la restricción en la capacidad del sistema\n",
        "\n",
        "Z: es la disciplina de cola"
      ]
    },
    {
      "cell_type": "markdown",
      "metadata": {
        "id": "_EIDr1_0ooDC"
      },
      "source": [
        "Los símbolos más utilizados son:"
      ]
    },
    {
      "cell_type": "markdown",
      "metadata": {
        "id": "fcEuwKhyooDD"
      },
      "source": [
        "#### Distribución de tiempos de llegada (A) y de servicio (B)\n",
        "\n",
        "|       **Símbolo**       |    **Explicación**   |\n",
        "|-------------------------|----------------------|\n",
        "|             M           |      Exponencial     |\n",
        "|             D           |      Determinista    |\n",
        "|           $E_k$         |      Erlang          |\n",
        "|             G           |      General         ||\n",
        "\n",
        "#### Número de servidores\n",
        "\n",
        "1, 2, 3, ... $\\infty$\n",
        "\n",
        "#### Disciplina de cola\n",
        "\n",
        "|       **Símbolo**       |            **Explicación**          |\n",
        "|-------------------------|-------------------------------------|\n",
        "|      **FIFO**           |    Servir al primero que llega      |\n",
        "|      **LIFO**           | Servir primero al último que llega  |\n",
        "|      **RSS**            |  Selección aleatoria de servicio    |\n",
        "|      **PR**             |               Prioridad             |\n",
        "|      **GD**             |           Disciplina general        ||"
      ]
    },
    {
      "cell_type": "markdown",
      "metadata": {
        "id": "u19bSd7HooDD"
      },
      "source": [
        "Si no existe restricción de capacidad (Y = $\\infty$) y la política de servicio es FIFO, no se suelen\n",
        "incorporar dichos símbolos en la notación así:\n",
        "\n",
        "**M/D/3** es equivalente a **M/D/3/$\\infty$/FIFO**\n",
        "\n",
        "y significa que los clientes entran según una distribución exponencial, se sirven de manera\n",
        "determinista con tres servidores sin limitación de capacidad en el sistema y siguiendo una estrategia\n",
        "FIFO de servicio."
      ]
    },
    {
      "cell_type": "markdown",
      "metadata": {
        "id": "ORPMr3g-ooDD"
      },
      "source": [
        "#### Rendimiento de un sistema\n",
        "\n",
        "La tarea de un analista puede ser de dos tipo:\n",
        "\n",
        "* Establecer mecanismos para medir la efectividad del sistema\n",
        "* Diseñar un sistema “óptimo” (de acuerdo a algún criterio)\n",
        "\n",
        "Diseñar eficientemente consiste, básicamente, en definir un sistema cuyo coste (de diseño y operación) se justifique por el servicio brindado. Dicho servicio se puede evaluar mediante el coste de “no darlo”. De este modo al diseñar se pretende minimizar unos supuestos costes totales.\n",
        "\n",
        "A partir de los datos que nos suministra la teoría de colas se puede obtener la información necesaria para definir el número de asientos necesarios en una sala de espera, o la estructura de etapas de un proceso de atención al cliente."
      ]
    },
    {
      "cell_type": "markdown",
      "metadata": {
        "id": "6zIQh0oNooDE"
      },
      "source": [
        "### Resultados generales\n",
        "\n",
        "resultados y relaciones para problemas G/G/1 o G/G/c."
      ]
    },
    {
      "cell_type": "markdown",
      "metadata": {
        "id": "Z1jL0wJJooDE"
      },
      "source": [
        "Si $\\rho \\leq 1$ el sistema tenderá a crecer inexorablemente."
      ]
    },
    {
      "cell_type": "markdown",
      "metadata": {
        "id": "jXxMOrFvooDE"
      },
      "source": [
        "El número de clientes en el instante $t$, $n(t)$, es el número de llegadas que han ocurrido hasta $t$\n",
        "menos el número de servicios completados hasta $t$."
      ]
    },
    {
      "cell_type": "markdown",
      "metadata": {
        "id": "FqVb1_5nooDE"
      },
      "source": [
        "El número medio de clientes en el sistema y en la cola se puede calcular de diferentes maneras:\n",
        "\n",
        "$$ L=E[n]= \\sum_{n=0}^{\\infty} n*p_n $$\n",
        "\n",
        "$$ L_q=E[n_q]= \\sum_{n=c+1}^{\\infty} (n-c)*p_n $$"
      ]
    },
    {
      "cell_type": "markdown",
      "metadata": {
        "id": "7_G6kN_UooDF"
      },
      "source": [
        "La famosa **fórmula de Little** establece una relación entre la longitud de la cola y el tiempo de espera:\n",
        "\n",
        "$$  L = \\lambda W  $$\n",
        "     \n",
        "$$  L_q = \\lambda W_q  $$"
      ]
    },
    {
      "cell_type": "markdown",
      "metadata": {
        "id": "d47prDJ6ooDF"
      },
      "source": [
        "El tiempo de estancia de un cliente en el sistema se relaciona con el tiempo de espera de un\n",
        "cliente en la cola:\n",
        "\n",
        "$$  W = W_q + \\frac{1}{\\mu} $$"
      ]
    },
    {
      "cell_type": "markdown",
      "metadata": {
        "id": "l1ItRLrDooDF"
      },
      "source": [
        "El número de clientes que por término medio se están atendiendo en cualquier momento es:\n",
        "\n",
        "$$  r = L - L_q = \\lambda (W - W_q) = \\frac{\\lambda}{\\mu}  $$"
      ]
    },
    {
      "cell_type": "markdown",
      "metadata": {
        "id": "NvGiQ1t2ooDG"
      },
      "source": [
        "En un sistema de un único servidor:\n",
        "\n",
        "$$ L - L_q = \\sum_{n=0}^{\\infty} n \\cdot p_n - \\sum_{n=0}^{\\infty} (n-1) \\cdot p_n = \\sum_{n=0}^{\\infty} p_n = 1 - p_0$$\n",
        "\n",
        "La probabilidad de que un sistema de un único servidor esté vacío es $p_0 = 1 - \\rho$"
      ]
    },
    {
      "cell_type": "markdown",
      "metadata": {
        "id": "07xvNKqxooDG"
      },
      "source": [
        "La probabilidad de que un servidor (de un sistema de $c$ servidores en paralelo) esté ocupado en\n",
        "el estado estable es:\n",
        "\n",
        "$$ p_b = \\rho = \\frac{\\lambda}{c \\cdot \\mu}  $$"
      ]
    },
    {
      "cell_type": "markdown",
      "metadata": {
        "id": "PkzPYGwPooDG"
      },
      "source": [
        "#### Ejercicio: Simulación manual. (100322)\n",
        "\n",
        "1. Completar la tabla."
      ]
    },
    {
      "cell_type": "markdown",
      "metadata": {
        "id": "5uGHgKjCooDH"
      },
      "source": [
        "| Pkt No. | Tpll | tps | Tiempo de arribo | Inicio de servicio | Hora de salida | Tiempo en fila | Tiempo en el sistema |\n",
        "|---------|------|-----|-----------------|--------------------|----------------|----------------|----------------------|\n",
        "|    1    |  2   |  12 |        2        |         2          |       14       |       0        |         12           |\n",
        "|    2    |  5   |  10 |        7        |         14         |       24       |       7        |         17           |\n",
        "|    3    |  1   |  16 |        8        |         24         |       40       |       16       |         32           |\n",
        "|    4    |  4   |   9 |       12        |         40         |       49       |       28       |         37           |\n",
        "|    5    |  1   |  10 |       13        |         49         |       59       |       36       |         46           |\n",
        "|    6    |  3   |  13 |       16        |         59         |       72       |       43       |         56           |\n",
        "|    7    |  3   |  17 |       19        |         72         |       89       |       53       |         70           |\n",
        "|    8    |  2   |  10 |       21        |         89         |       99       |       68       |         78           |\n",
        "|    9    |  4   |   8 |       25        |         99         |      107       |       74       |         82           |\n",
        "|   10    |  5   |  12 |       30        |        107         |      119       |       77       |         89           |\n"
      ]
    },
    {
      "cell_type": "markdown",
      "metadata": {
        "id": "M6AqjOCIooDH"
      },
      "source": [
        "#### Ejercicio: Continuación ... (170322)\n",
        "\n",
        "1. Agregar dos columnas a la tabla anterior: Tamaño de la cola despues de $t$ Clientes en el sistema después de $t$.\n",
        "2. Con la información de la tabla completa, determinar: $\\lambda$, $\\mu$, $L$ y $L_q$."
      ]
    },
    {
      "cell_type": "markdown",
      "source": [
        "| Pkt No. | Tpll | tps | Tiempo de arribo | Inicio de servicio | Hora de salida | Tiempo en fila | Tiempo en el sistema | Tamaño de la cola después de t | Clientes en el sistema después de t |\n",
        "|---------|------|-----|-----------------|--------------------|----------------|----------------|----------------------|--------------------------------|-------------------------------------|\n",
        "|    1    |  2   |  12 |        2        |         2          |       14       |       0        |         12           |               0                |                 1                   |\n",
        "|    2    |  5   |  10 |        7        |         14         |       24       |       7        |         17           |               1                |                 2                   |\n",
        "|    3    |  1   |  16 |        8        |         24         |       40       |       16       |         32           |               0                |                 1                   |\n",
        "|    4    |  4   |   9 |       12        |         40         |       49       |       28       |         37           |               0                |                 1                   |\n",
        "|    5    |  1   |  10 |       13        |         49         |       59       |       36       |         46           |               0                |                 1                   |\n",
        "|    6    |  3   |  13 |       16        |         59         |       72       |       43       |         56           |               1                |                 2                   |\n",
        "|    7    |  3   |  17 |       19        |         72         |       89       |       53       |         70           |               2                |                 3                   |\n",
        "|    8    |  2   |  10 |       21        |         89         |       99       |       68       |         78           |               1                |                 2                   |\n",
        "|    9    |  4   |   8 |       25        |         99         |      107       |       74       |         82           |               0                |                 1                   |\n",
        "|   10    |  5   |  12 |       30        |        107         |      119       |       77       |         89           |               0                |                 1                   |\n"
      ],
      "metadata": {
        "id": "DKPE5nZVpm7T"
      }
    },
    {
      "cell_type": "markdown",
      "metadata": {
        "id": "7QyPuaRVooDH"
      },
      "source": [
        "### Tarea"
      ]
    },
    {
      "cell_type": "markdown",
      "metadata": {
        "id": "yEeIodQZooDI"
      },
      "source": [
        "|  Cliente i:                       |  1 | 2 | 3 |4 |5 |6 |7 |8 |9 |10 | 11 | 12 |\n",
        "|-----------------------------------|----|---|---|--|--|--|--|--|--|---|----|----|\n",
        "|Tiempo de llegada entre i + 1 e i: |2   | 1 | 3 |1 |1 | 4|2 |5 |1 | 2 | 2  |    |\n",
        "|Tiempo de servicio al cliente:     | 1  | 3 | 6 |2 |1 | 1|4 | 2|5 |1  | 1  | 3  |"
      ]
    },
    {
      "cell_type": "markdown",
      "metadata": {
        "id": "zQ0ImGDWooDI"
      },
      "source": [
        "1. Contruir la tabla completa\n",
        "\n",
        "\n",
        "| t | Entrada/salida i | Ini serv i | Ter serv i | T en cola | T en sist | Tamaño de cola t | Clientes en el sistema hasta t |\n",
        "|---|-----------------|------------|------------|-----------|-----------|------------------|-------------------------------|\n",
        "| 0 |     1-E         |     0      |     1      |    0      |     1     |       0          |              1                |\n",
        "| 1 |     1-S         |     -      |     -      |    -      |     -     |       0          |              0                |\n",
        "| 2 |     2-E         |     -      |     -      |    -      |     -     |       1          |              1                |\n",
        "| 3 |     2-S         |     -      |     -      |    -      |     -     |       0          |              0                |\n",
        "| 4 |     3-E         |     3      |     6      |    0      |     2     |       1          |              1                |\n",
        "| 5 |     4-E         |     -      |     -      |    -      |     -     |       2          |              2                |\n",
        "| 6 |     5-E         |     -      |     -      |    -      |     -     |       3          |              3                |\n",
        "| 7 |     3-S         |     -      |     -      |    -      |     -     |       2          |              2                |\n",
        "| 8 |     6-E         |     6      |     7      |    0      |     1     |       2          |              2                |\n",
        "| 9 |     4-S         |     -      |     -      |    -      |     -     |       1          |              1                |\n",
        "|10 |     5-S         |     -      |     -      |    -      |     -     |       0          |              0                |\n",
        "|11 |     7-E         |     7      |     8      |    0      |     1     |       1          |              1                |\n",
        "|12 |     6-S         |     -      |     -      |    -      |     -     |       0          |              0                |\n",
        "|13 |     8-E         |     -      |     -      |    -      |     -     |       1          |              1                |\n",
        "|14 |     9-E         |     -      |     -      |    -      |     -     |       2          |              2                |\n",
        "|15 |     7-S         |     -      |     -      |    -      |     -     |       1          |              1                |\n",
        "|16 |    10-E         |     10     |     11     |    0      |     1     |       1          |              1                |\n",
        "|17 |     8-S         |     -      |     -      |    -      |     -     |       0          |              0                |\n",
        "|18 |     9-S         |     -      |     -      |    -      |     -     |       0          |              0                |\n",
        "|19 |    11-E         |     11     |     12     |    0      |     1     |       0          |              1                |\n",
        "|20 |    10-S         |     -      |     -      |    -      |     -     |       0          |              0                |\n",
        "|21 |    12-E         |     -      |     -      |    -      |     -     |       0          |              1                |\n"
      ]
    },
    {
      "cell_type": "markdown",
      "metadata": {
        "id": "cv9NHjb-ooDJ"
      },
      "source": [
        "### Para construir la simulación"
      ]
    },
    {
      "cell_type": "markdown",
      "metadata": {
        "id": "gOF60AwtooDJ"
      },
      "source": [
        "#### Variables:\n",
        "\n",
        "1. Variable de tiempo $t$: tiempo (simulado) transcurrido.\n",
        "\n",
        "2. Variables de conteo: número de veces que ciertos eventos han ocurrido, hasta el instante $t$.\n",
        "    \n",
        "3. Variables de estado del sistema (ES): Describen el estado del sistema en el instante $t$."
      ]
    },
    {
      "cell_type": "markdown",
      "metadata": {
        "id": "8jaD6EZtooDJ"
      },
      "source": [
        "Subrutina para generar $T_s$, el tiempo de la primera llegada después del instante s."
      ]
    },
    {
      "cell_type": "markdown",
      "metadata": {
        "id": "FX_HsMA-ooDK"
      },
      "source": [
        "Paso 1: Sea $t = s$.\n",
        "\n",
        "Paso 2: Generar $U$.\n",
        "\n",
        "Paso 3: Sea $t = t - \\frac{1}{\\lambda} logU$.\n",
        "\n",
        "Paso 4: Generar $U$.\n",
        "\n",
        "Paso 5: Si $U \\leq \\frac{\\lambda(t)}{\\lambda}$, hacer $T_s = t$ y terminar.\n",
        "\n",
        "Paso 6: Ir al paso 2."
      ]
    },
    {
      "cell_type": "markdown",
      "metadata": {
        "id": "c8txfPPEooDK"
      },
      "source": [
        "### Ejercicio (080322):\n",
        "\n",
        "1. Escribir el código para la subrutina que genera $T_s$."
      ]
    },
    {
      "cell_type": "code",
      "execution_count": null,
      "metadata": {
        "id": "tQocQc-XooDL"
      },
      "outputs": [],
      "source": [
        "from random import expovariate\n",
        "from matplotlib.pyplot import *\n",
        "from random import seed"
      ]
    },
    {
      "cell_type": "code",
      "execution_count": null,
      "metadata": {
        "id": "Y_jFsVXKooDU"
      },
      "outputs": [],
      "source": [
        "tpll = 2.0             # Tiempo promedio entre llegadas\n",
        "T = 15                 # Tiempo total de la simulación\n",
        "\n",
        "N = 0                  # Variable de estado: número de llegadas\n",
        "\n",
        "t = 0                  # Hora de simulación actual\n",
        "\n",
        "\n",
        "while t <= T:\n",
        "    N = N + 1\n",
        "    # Avance del tiempo simulado\n",
        "    t = t + expovariate(1/tpll)\n",
        "\n",
        "print('Número total de llegadas = ', N)"
      ]
    },
    {
      "cell_type": "markdown",
      "metadata": {
        "id": "LgSb9L7YooDU"
      },
      "source": [
        "### Extraemos los datos del código anterior"
      ]
    },
    {
      "cell_type": "code",
      "execution_count": null,
      "metadata": {
        "id": "09Zf621sooDV"
      },
      "outputs": [],
      "source": [
        "tpll = 2.0             # Tiempo promedio entre llegadas\n",
        "T = 15                 # Tiempo total de la simulación\n",
        "\n",
        "N = 0                  # Variable de estado: número de llegadas\n",
        "\n",
        "t = 0                  # Hora de simulación actual\n",
        "\n",
        "while t <= T:\n",
        "    N = N + 1\n",
        "    # Avance del tiempo simulado\n",
        "    t = t + expovariate(1/tpll)\n",
        "\n",
        "print('Número total de llegadas = ', N)"
      ]
    },
    {
      "cell_type": "markdown",
      "metadata": {
        "id": "SUKXUm_LooDV"
      },
      "source": [
        "### Línea de espera con un servidor."
      ]
    },
    {
      "cell_type": "markdown",
      "metadata": {
        "id": "80kgX54tooDW"
      },
      "source": [
        "Se requieren las siguientes variables:\n",
        "\n",
        "1. Variable de tiempo: $t$.\n",
        "\n",
        "2. Variables de conteo:\n",
        "\n",
        "$N_A$: tiempo de llegadas hasta $t$.\n",
        "                        \n",
        "$N_D$: número de salidas hasta $t$.\n",
        "\n",
        "3. Variables de estado del sistema:  $n$: número de clientes en el sistema en el instante $t$.\n",
        "\n",
        "Lista de eventos: $t_A, t_D$, llegadas y salidas."
      ]
    },
    {
      "cell_type": "markdown",
      "metadata": {
        "id": "mUrrQiT4ooDW"
      },
      "source": [
        "### Inicialización:"
      ]
    },
    {
      "cell_type": "markdown",
      "metadata": {
        "id": "HVmP7MBsooDW"
      },
      "source": [
        "Sea $t = N_A = N_D = 0$.\n",
        "\n",
        "Sea ES = 0.\n",
        "\n",
        "Generar $T_0$ y hacer $t_A = T_0, t_D = \\infty$"
      ]
    },
    {
      "cell_type": "markdown",
      "metadata": {
        "id": "OxiHrhLpooDX"
      },
      "source": [
        "### Tarea: Codificar inicialización y casos (pp. 89-91)"
      ]
    },
    {
      "cell_type": "markdown",
      "metadata": {
        "id": "h5uhkbS7ooDX"
      },
      "source": [
        "## Construyendo el código para simular la línea de espera..."
      ]
    },
    {
      "cell_type": "markdown",
      "metadata": {
        "id": "iVeI-p22ooDX"
      },
      "source": [
        "El tiempo entre arrivos sigue una distribución exponencial, por lo cual multiples llegadas integran un proceso de Poisson."
      ]
    },
    {
      "cell_type": "code",
      "execution_count": null,
      "metadata": {
        "id": "JrBc8kGFooDY"
      },
      "outputs": [],
      "source": [
        "from random import expovariate\n",
        "from matplotlib.pyplot import *\n",
        "from random import seed\n",
        "from math import inf as Infinity\n",
        "from statistics import mean"
      ]
    },
    {
      "cell_type": "code",
      "execution_count": null,
      "metadata": {
        "id": "ILaxjycCooDY"
      },
      "outputs": [],
      "source": [
        "tpll = 2.0             # Tiempo promedio entre llegadas\n",
        "T = 15                 # Tiempo total de la simulación\n",
        "\n",
        "N = 0                  # Variable de estado: número de llegadas\n",
        "\n",
        "t = 0                  # Hora de simulación actual\n",
        "\n",
        "llegadas = []\n",
        "num = []\n",
        "\n",
        "while t <= T:\n",
        "    N = N + 1\n",
        "    # Avance del tiempo simulado\n",
        "    t = t + expovariate(1/tpll)\n",
        "    llegadas.append(t)\n",
        "    num.append(N)\n",
        "\n",
        "step(llegadas, num)\n",
        "print('Número total de llegadas = ', N)"
      ]
    },
    {
      "cell_type": "markdown",
      "metadata": {
        "id": "zeA-9FuKooDZ"
      },
      "source": [
        "El proceso de Poisson es un caso especial de otro tipo de proceso aleatorio, llamado de Nacimiento-Muerte."
      ]
    },
    {
      "cell_type": "code",
      "execution_count": null,
      "metadata": {
        "id": "gVmHSONDooDZ"
      },
      "outputs": [],
      "source": [
        "tpll = 2.0                      # Tiempo de inter arrivo promedio\n",
        "tps = 1.0                       # Tiempo de servicio promedio\n",
        "T = 100.0                       # Tiempo total de la simulación\n",
        "t = 0.0                         # Tiempo de simulación actual\n",
        "\n",
        "N = 0                           # Variable de estado: número de clientes en el sistema\n",
        "\n",
        "# Hora de arrivo del siguiente evento\n",
        "\n",
        "T_arrivo = expovariate(1.0/tpll)\n",
        "\n",
        "# Hora del próximo evento de salida\n",
        "\n",
        "T_salida = Infinity\n",
        "\n",
        "X = []\n",
        "Y = []\n",
        "\n",
        "while t <= T:\n",
        "    tll = expovariate(1.0/tpll)\n",
        "    ts = expovariate(1.0/tps)\n",
        "    if tll < ts:\n",
        "        N += 1\n",
        "        t = t + tll\n",
        "        X.append(t)\n",
        "        Y.append(N)\n",
        "\n",
        "    else:\n",
        "        if N > 0:\n",
        "            N -= 1\n",
        "            t = t + ts\n",
        "            X.append(t)\n",
        "            Y.append(N)\n",
        "\n",
        "fig = figure(1, figsize=(16, 8))\n",
        "step(X, Y, Linewidth=1.2, color='black')\n",
        "xlabel('Tiempo', size=16)\n",
        "ylabel('N', size=16)\n",
        "show()"
      ]
    },
    {
      "cell_type": "code",
      "execution_count": null,
      "metadata": {
        "id": "8p5A0hY9ooDa"
      },
      "outputs": [],
      "source": []
    },
    {
      "cell_type": "code",
      "execution_count": null,
      "metadata": {
        "id": "h634c8ivooDa"
      },
      "outputs": [],
      "source": []
    },
    {
      "cell_type": "code",
      "execution_count": null,
      "metadata": {
        "id": "7M7jCVIbooDb"
      },
      "outputs": [],
      "source": []
    },
    {
      "cell_type": "code",
      "execution_count": null,
      "metadata": {
        "id": "tWlqvJ36ooDc"
      },
      "outputs": [],
      "source": [
        "tpll = 2.0                      # Tiempo de inter arrivo promedio\n",
        "tps = 1.0                       # Tiempo de servicio promedio\n",
        "T = 100.0                       # Tiempo total de la simulación\n",
        "t = 0.0                         # Tiempo de simulación actual\n",
        "\n",
        "N = 0                           # Variable de estado: número de clientes en el sistema\n",
        "\n",
        "# Hora de arrivo del siguiente evento\n",
        "\n",
        "T_arrivo = expovariate(1.0/tpll)\n",
        "\n",
        "# Hora del próximo evento de salida\n",
        "\n",
        "T_salida = Infinity\n",
        "\n",
        "while t <= T:\n",
        "    if T_arrivo < T_salida:                                  # Evento de arrivo\n",
        "        t = T_arrivo\n",
        "        N = N + 1.0\n",
        "        T_arrivo = t + expovariate(1.0/tpll)\n",
        "        if N == 1:\n",
        "            T_salida = t + expovariate(1.0/tps)\n",
        "    else:                                                    # Evento de salida\n",
        "        t = T_salida\n",
        "        N = N - 1.0\n",
        "        if N > 0:\n",
        "            T_salida = t + expovariate(1.0/tps)\n",
        "        else:\n",
        "            T_salida = Infinity\n",
        "\n",
        "print('Número total de llegadas = ', N)"
      ]
    },
    {
      "cell_type": "markdown",
      "metadata": {
        "id": "je7J7IkcooDd"
      },
      "source": [
        "## Recolección de datos de la simulación"
      ]
    },
    {
      "cell_type": "markdown",
      "metadata": {
        "id": "2ptIYfDzooDe"
      },
      "source": [
        "El **rendimiento**, $\\tau$, de cuántos paquetes puede procesar el sistema en una unidad de tiempo; se define como la razón del número de salidas, $D$, dividido entre el tiempo total de la simulación. $T$.\n",
        "\n",
        "$$ \\tau = \\frac{D}{T} $$\n",
        "\n",
        "Se mide en paquetes/clientes por unidad de tiempo."
      ]
    },
    {
      "cell_type": "markdown",
      "metadata": {
        "id": "JGy7RJwaooDf"
      },
      "source": [
        "La **utilización** es la proporción del tiempo de simulación durante el cual el servidor estuvo ocupado. Esto es el producto del rendimiento y el tiempo promedio de ervicio por cliente/paquete.\n",
        "\n",
        "$$ U = \\tau T_s $$\n",
        "\n",
        "donde $T_s$ es el tiempo de servicio promedio por cliente/paquete:\n",
        "\n",
        "$$ T_s = \\frac{B}{D} $$\n",
        "\n",
        "donde $B$ es tiempo totl en que el servidor estuvo ocupado:\n",
        "\n",
        "$$ B = \\sum_{i=1}^D T_i$$\n",
        "\n",
        "donde $T_i$ es el tiempo de servicio del cliente/paquete $i$."
      ]
    },
    {
      "cell_type": "markdown",
      "metadata": {
        "id": "j0bb17TZooDg"
      },
      "source": [
        "El **tiempo de respuesta** o **retraso** es el tiempo total que un cliente/paquete pasa en el sistema; incluye el tiempo de espera (tiempo en la cola) y el tiempo de servicio.\n",
        "\n",
        "Si $W_i$ es el tiempo pasado en el sistema por el i-esimo cliente/paquete simulado, entonces el tiempo de respuesta promedio del sistema es:\n",
        "\n",
        "$$ W = \\frac{\\sum_{i=1}^D W_i}{D} $$\n",
        "\n",
        "Así, el número promedio de paquetes en el sistema puede ser calculado como:\n",
        "\n",
        "$$ L=\\tau \\cdot W $$"
      ]
    },
    {
      "cell_type": "markdown",
      "metadata": {
        "id": "6OParg_EooDg"
      },
      "source": [
        "### Estimación del tiempo promedio de respuesta del sistema"
      ]
    },
    {
      "cell_type": "code",
      "execution_count": 1,
      "metadata": {
        "id": "AbZ1i6tvooDh"
      },
      "outputs": [],
      "source": [
        "from random import expovariate\n",
        "from statistics import mean\n",
        "from math import inf as Infinity"
      ]
    },
    {
      "cell_type": "code",
      "execution_count": 2,
      "metadata": {
        "id": "ZdI5AY2fooDh",
        "colab": {
          "base_uri": "https://localhost:8080/"
        },
        "outputId": "721429ad-92ef-47d3-af49-f562fa237f73"
      },
      "outputs": [
        {
          "output_type": "stream",
          "name": "stdout",
          "text": [
            "Retraso promedio =  1.4016\n"
          ]
        }
      ],
      "source": [
        "# Parametros\n",
        "\n",
        "lamda = 1.3                         # Razón de arrivos (1/Lambda)  Ojo\n",
        "mu = 2.0                            # Razón de salida (1/Mu)       Ojo\n",
        "\n",
        "\n",
        "Num_Pkts = 100000                   # Numero de paquetes a simular\n",
        "#T = 100000\n",
        "count = 0                           # Contador de paquetes simulados\n",
        "t = 0\n",
        "N = 0                               # Variable de estado: numero de paquetes en el sistema\n",
        "\n",
        "tll = expovariate(lamda)            # Tiempo de llegada\n",
        "ts = Infinity                       # Tiempo de salida\n",
        "\n",
        "# Variables de salida\n",
        "tll_Data = []                       # Lista de tiempos de llegada\n",
        "ts_Data = []                        # Lista de tiempos de salida\n",
        "r_Data = []                         # Lista de retrasos individuales\n",
        "\n",
        "while count < Num_Pkts:\n",
        "#while t < T:\n",
        "    if tll < ts:                           # Evento de llegada\n",
        "        t = tll\n",
        "        tll_Data.append(t)\n",
        "        N = N + 1.0\n",
        "        tll = t + expovariate(lamda)\n",
        "        if N == 1:\n",
        "            ts = t + expovariate(mu)\n",
        "    else:                                         # Evento de salida\n",
        "        t = ts\n",
        "        ts_Data.append(t)\n",
        "        N = N - 1.0\n",
        "        count = count + 1                         # Paquetes simulados\n",
        "        if N > 0:\n",
        "            ts = t + expovariate(mu)\n",
        "        else:\n",
        "            ts = Infinity\n",
        "\n",
        "# Estimación del retraso promedio:\n",
        "\n",
        "for i in range(Num_Pkts):\n",
        "#for i in range(T):\n",
        "    d = ts_Data[i] - tll_Data[i]\n",
        "    r_Data.append(d)\n",
        "\n",
        "print( \"Retraso promedio = \", round( mean(r_Data), 4) )"
      ]
    },
    {
      "cell_type": "markdown",
      "metadata": {
        "id": "2CjZ63RdooDi"
      },
      "source": [
        "### Tarea: Graficar los datos de salida del código anterior"
      ]
    },
    {
      "cell_type": "code",
      "execution_count": 3,
      "metadata": {
        "id": "v9mcQR8DooDj",
        "colab": {
          "base_uri": "https://localhost:8080/",
          "height": 927
        },
        "outputId": "2991a47e-41a1-4a01-b376-e697868bac4b"
      },
      "outputs": [
        {
          "output_type": "display_data",
          "data": {
            "text/plain": [
              "<Figure size 640x480 with 1 Axes>"
            ],
            "image/png": "[encoded data removed]"
          },
          "metadata": {}
        },
        {
          "output_type": "display_data",
          "data": {
            "text/plain": [
              "<Figure size 640x480 with 1 Axes>"
            ],
            "image/png": "[encoded data removed]"
          },
          "metadata": {}
        }
      ],
      "source": [
        "import matplotlib.pyplot as plt\n",
        "from statistics import mean\n",
        "\n",
        "# Aquí se incluye el código proporcionado para generar los datos de salida\n",
        "\n",
        "# Graficar los tiempos de llegada y salida\n",
        "plt.plot(tll_Data, range(len(tll_Data)), label='Tiempos de llegada')\n",
        "plt.plot(ts_Data, range(len(ts_Data)), label='Tiempos de salida')\n",
        "\n",
        "# Configurar etiquetas y título del gráfico\n",
        "plt.xlabel('Tiempo')\n",
        "plt.ylabel('Número de paquete')\n",
        "plt.title('Tiempos de llegada y salida de los paquetes')\n",
        "\n",
        "# Mostrar la leyenda\n",
        "plt.legend()\n",
        "\n",
        "# Mostrar el gráfico\n",
        "plt.show()\n",
        "\n",
        "# Graficar el retraso de los paquetes\n",
        "plt.plot(range(len(r_Data)), r_Data)\n",
        "\n",
        "# Calcular y mostrar el retraso promedio\n",
        "retraso_promedio = round(mean(r_Data), 4)\n",
        "plt.axhline(y=retraso_promedio, color='r', linestyle='--', label='Retraso promedio')\n",
        "plt.xlabel('Número de paquete')\n",
        "plt.ylabel('Retraso')\n",
        "plt.title('Retraso individual de los paquetes')\n",
        "plt.legend()\n",
        "plt.show()\n"
      ]
    },
    {
      "cell_type": "code",
      "execution_count": null,
      "metadata": {
        "id": "XKcGgtMgooDj"
      },
      "outputs": [],
      "source": []
    },
    {
      "cell_type": "markdown",
      "metadata": {
        "id": "tvhh-RumooDk"
      },
      "source": [
        "### Estamación del número promedio de clientes en el sistema"
      ]
    },
    {
      "cell_type": "markdown",
      "metadata": {
        "id": "IbnLOG-KooDk"
      },
      "source": [
        "La variable de estado $N(t)$ representa el número de clientes/paquetes en el sistema al tiempo $t$, también designado con $L$ (verificar). Esta cantidad se puede calcular directamente como:\n",
        "\n",
        "$$\\mathbb{E}[N(t)] = \\frac{1}{T}\\int_0^T N(t) dt $$\n",
        "\n",
        "donde $T$ es el tiempo total de la simulación. Esta integral se puede interpretar geometricamente como el área de los escalones en la gráfica $N(t)$ vs $t$."
      ]
    },
    {
      "cell_type": "code",
      "execution_count": null,
      "metadata": {
        "id": "aQd-9b5PooDl"
      },
      "outputs": [],
      "source": [
        "# Parametros\n",
        "\n",
        "lamda = 4.0                         # Razón de arrivos (1/Lambda)  Ojo\n",
        "mu = 6.0                            # Razón de salida (1/Mu)       Ojo\n",
        "\n",
        "\n",
        "Num_Pkts = 100000                   # Numero de paquetes a simular\n",
        "#T = 100000\n",
        "count = 0                           # Contador de paquetes simulados\n",
        "t = 0\n",
        "N = 0                               # Variable de estado: numero de paquetes en el sistema\n",
        "\n",
        "tll = expovariate(lamda)            # Tiempo de llegada\n",
        "ts = Infinity                       # Tiempo de salida\n",
        "\n",
        "t_evento_anterior = 0.0             # tiempo del último evento ****************Nuevas líneas de código***********\n",
        "\n",
        "\n",
        "# Variables de salida\n",
        "tll_Data = []                       # Lista de tiempos de llegada\n",
        "ts_Data = []                        # Lista de tiempos de salida\n",
        "r_Data = []                         # Lista de retrasos individuales\n",
        "Area = []                           # Area de escalón ***********************************************************\n",
        "\n",
        "\n",
        "while count < Num_Pkts:\n",
        "#while t < T:\n",
        "    if tll < ts:                           # Evento de llegada\n",
        "        t = tll\n",
        "        tll_Data.append(t)\n",
        "\n",
        "        # Area del escalón ***********************************************************************************\n",
        "        Area.append((t - t_evento_anterior)*N)\n",
        "        t_evento_anterior = t\n",
        "\n",
        "\n",
        "        N = N + 1.0\n",
        "        tll = t + expovariate(lamda)\n",
        "        if N == 1:\n",
        "            ts = t + expovariate(mu)\n",
        "    else:                                         # Evento de salida\n",
        "        t = ts\n",
        "        ts_Data.append(t)\n",
        "\n",
        "        # Area del escalón ***********************************************************************************\n",
        "        Area.append((t - t_evento_anterior)*N)\n",
        "        t_evento_anterior = t\n",
        "\n",
        "\n",
        "        N = N - 1.0\n",
        "        count = count + 1                         # Paquetes simulados\n",
        "        if N > 0:\n",
        "            ts = t + expovariate(mu)\n",
        "        else:\n",
        "            ts = Infinity\n",
        "\n",
        "# Estimación del retraso promedio:\n",
        "\n",
        "for i in range(Num_Pkts):\n",
        "#for i in range(T):\n",
        "    d = ts_Data[i] - tll_Data[i]\n",
        "    r_Data.append(d)\n",
        "\n",
        "print( \"Retraso promedio = W = \", round( mean(r_Data), 4) )\n",
        "print( \"E[ N(t)] = L = \", round(sum(Area)/t, 4))"
      ]
    },
    {
      "cell_type": "markdown",
      "metadata": {
        "id": "lBUnDZIUooDm"
      },
      "source": [
        "### Ejemplo:"
      ]
    },
    {
      "cell_type": "markdown",
      "metadata": {
        "id": "PSkpH5QEooDm"
      },
      "source": [
        "Lavado Automata para automóviles funciona sólo con un lugar. Los autos llegan siguiendo\n",
        "una distribución de Poisson, con 4 autos por hora, que pueden esperar en el estacionamiento de\n",
        "la instalación, si el lugar de lavado está ocupado. El tiempo para lavar y limpiar un automóvil\n",
        "es exponencial, con 10 minutos de promedio. Los automóviles que no se pueden estacionar en\n",
        "la instalación pueden esperar en el arrollo junto al lavado. Eso quiere decir que para todo fin\n",
        "práctico no hay límite del tamaño del sistema. El gerente de la instalación desea determinar el\n",
        "tamaño del estacionamiento.\n",
        "\n",
        "Para resolver este problema, hay que determinar $L_q$, pero de momento estimemos $L$ y $W$ usando la simulación."
      ]
    },
    {
      "cell_type": "code",
      "execution_count": 4,
      "metadata": {
        "id": "8jDVe0fCooDm",
        "colab": {
          "base_uri": "https://localhost:8080/"
        },
        "outputId": "335bc350-117c-4327-c2bb-e9ec60c10af5"
      },
      "outputs": [
        {
          "output_type": "stream",
          "name": "stdout",
          "text": [
            "Estimación de L: 1.02701\n",
            "Estimación de W: 10.00386261153333\n"
          ]
        }
      ],
      "source": [
        "import random\n",
        "import numpy as np\n",
        "\n",
        "def simulacion_lavado_automoviles(num_simulaciones):\n",
        "    num_autos = 0\n",
        "    tiempo_total = 0\n",
        "\n",
        "    for _ in range(num_simulaciones):\n",
        "        estacionamiento = 0\n",
        "        tiempo_llegada = 0\n",
        "        tiempo_lavado = 0\n",
        "\n",
        "        while True:\n",
        "            tiempo_llegada += np.random.exponential(1 / 4)  # Tiempo entre llegadas (distribución de Poisson)\n",
        "\n",
        "            if estacionamiento == 0:  # Si el estacionamiento está vacío, el auto pasa directamente al lavado\n",
        "                tiempo_lavado = np.random.exponential(10)  # Tiempo de lavado y limpieza (exponencial)\n",
        "            else:\n",
        "                tiempo_espera = max(0, tiempo_lavado - tiempo_llegada)  # Tiempo de espera en el estacionamiento\n",
        "                tiempo_lavado = tiempo_espera + np.random.exponential(10)  # Tiempo de lavado después de la espera\n",
        "\n",
        "            tiempo_total += tiempo_lavado\n",
        "            num_autos += 1\n",
        "\n",
        "            if tiempo_lavado - tiempo_llegada < 0:  # Si el auto no pudo estacionarse, pasa al siguiente ciclo\n",
        "                continue\n",
        "\n",
        "            if random.random() < (tiempo_lavado - tiempo_llegada) / tiempo_lavado:  # Probabilidad de que el auto se estacione\n",
        "                estacionamiento += 1\n",
        "\n",
        "            break\n",
        "\n",
        "    L = num_autos / num_simulaciones  # Número promedio de autos en el sistema\n",
        "    W = tiempo_total / num_autos  # Tiempo promedio que un auto pasa en el sistema\n",
        "\n",
        "    return L, W\n",
        "\n",
        "# Estimar L y W usando 100000 simulaciones\n",
        "L_estimado, W_estimado = simulacion_lavado_automoviles(100000)\n",
        "\n",
        "print(\"Estimación de L:\", L_estimado)\n",
        "print(\"Estimación de W:\", W_estimado)\n"
      ]
    },
    {
      "cell_type": "code",
      "execution_count": null,
      "metadata": {
        "id": "-IBRWNLXooDn"
      },
      "outputs": [],
      "source": []
    },
    {
      "cell_type": "markdown",
      "metadata": {
        "id": "aO0H0AwRooDn"
      },
      "source": [
        "### Ejercicios:\n",
        "\n",
        "Calcular $L_q$ para el ejemplo anterior, usando las fórmulas de arriba."
      ]
    },
    {
      "cell_type": "code",
      "execution_count": 7,
      "metadata": {
        "id": "OzdLQW90ooDn",
        "colab": {
          "base_uri": "https://localhost:8080/"
        },
        "outputId": "b05b2878-7851-4724-a883-04ee97d7390b"
      },
      "outputs": [
        {
          "output_type": "stream",
          "name": "stdout",
          "text": [
            "Lq = 0.6666666666666666\n"
          ]
        }
      ],
      "source": [
        "# Parámetros del problema\n",
        "tasa_llegada = 4  # Autos por hora\n",
        "tiempo_lavado = 10  # Minutos\n",
        "\n",
        "# Conversión de la tasa de llegada a autos por minuto\n",
        "tasa_llegada_min = tasa_llegada / 60\n",
        "\n",
        "# Cálculo de Lq\n",
        "Lq = tasa_llegada_min * tiempo_lavado\n",
        "\n",
        "print(\"Lq =\", Lq)\n"
      ]
    },
    {
      "cell_type": "markdown",
      "metadata": {
        "id": "eRFm9KtAooDo"
      },
      "source": [
        "\n",
        "En una estación con un solo servidor llegan en promedio 45 clientes por hora. Se tiene capacidad para atender\n",
        "en promedio a 60 clientes por hora. Se sabe que los clientes esperan en promedio 3 minutos en la cola.\n",
        "Se solicita determinar:\n",
        "* Tiempo promedio que un cliente pasa en el sistema.\n",
        "* Número promedio de clientes en la cola.\n",
        "* Número promedio de clientes en el Sistema en un momento dado.\n",
        "\n",
        "Use la simulación para responder y luego verifique los resultados usando las fórmulas de arriba."
      ]
    },
    {
      "cell_type": "code",
      "execution_count": 8,
      "metadata": {
        "id": "lHdxPeXUooDo",
        "colab": {
          "base_uri": "https://localhost:8080/"
        },
        "outputId": "9eabbf35-c400-4dac-a4f2-5bf186151897"
      },
      "outputs": [
        {
          "output_type": "stream",
          "name": "stdout",
          "text": [
            "Tiempo promedio en el sistema: 0.016708730559267856\n",
            "Número promedio de clientes en la cola: 0.4278\n",
            "Número promedio de clientes en el sistema: 1.0\n"
          ]
        }
      ],
      "source": [
        "import random\n",
        "import numpy as np\n",
        "\n",
        "def simulacion_estacion_servicio(num_simulaciones):\n",
        "    tiempo_total = 0\n",
        "    num_clientes_en_cola = 0\n",
        "    num_clientes_en_sistema = 0\n",
        "\n",
        "    for _ in range(num_simulaciones):\n",
        "        tiempo_llegada = np.random.exponential(1 / 45)  # Tiempo entre llegadas (distribución exponencial)\n",
        "        tiempo_servicio = np.random.exponential(1 / 60)  # Tiempo de servicio (distribución exponencial)\n",
        "\n",
        "        tiempo_total += tiempo_servicio\n",
        "        tiempo_en_cola = max(0, tiempo_servicio - tiempo_llegada)  # Tiempo que el cliente pasa en la cola\n",
        "        num_clientes_en_cola += 1 if tiempo_en_cola > 0 else 0\n",
        "        num_clientes_en_sistema += 1\n",
        "\n",
        "    tiempo_promedio_sistema = tiempo_total / num_simulaciones\n",
        "    clientes_promedio_cola = num_clientes_en_cola / num_simulaciones\n",
        "    clientes_promedio_sistema = num_clientes_en_sistema / num_simulaciones\n",
        "\n",
        "    return tiempo_promedio_sistema, clientes_promedio_cola, clientes_promedio_sistema\n",
        "\n",
        "# Estimar tiempo promedio en el sistema, número promedio de clientes en la cola y número promedio de clientes en el sistema\n",
        "tiempo_promedio, clientes_promedio_cola, clientes_promedio_sistema = simulacion_estacion_servicio(100000)\n",
        "\n",
        "print(\"Tiempo promedio en el sistema:\", tiempo_promedio)\n",
        "print(\"Número promedio de clientes en la cola:\", clientes_promedio_cola)\n",
        "print(\"Número promedio de clientes en el sistema:\", clientes_promedio_sistema)\n"
      ]
    },
    {
      "cell_type": "markdown",
      "metadata": {
        "id": "C3ON57ZPooDp"
      },
      "source": []
    },
    {
      "cell_type": "markdown",
      "metadata": {
        "id": "TZHRW84SooDp"
      },
      "source": [
        "Podemos determinar la probabilidad de que en cierto tiempo haya exactamente $k$ clientes/paquetes en el sistema.\n",
        "\n",
        "$$\\mathbb{P}[N=k]$$\n"
      ]
    },
    {
      "cell_type": "code",
      "execution_count": null,
      "metadata": {
        "id": "GChNXefrooDp"
      },
      "outputs": [],
      "source": [
        "from random import expovariate\n",
        "from statistics import mean\n",
        "from math import inf as Infinity\n",
        "from random import seed\n",
        "from matplotlib.pyplot import *"
      ]
    },
    {
      "cell_type": "code",
      "execution_count": null,
      "metadata": {
        "id": "fMur1MReooDq"
      },
      "outputs": [],
      "source": [
        "# Parametros\n",
        "\n",
        "lamda = 4.0                         # Razón de arrivos (1/Lambda)  Ojo\n",
        "mu = 6.0                            # Razón de salida (1/Mu)       Ojo\n",
        "\n",
        "\n",
        "Num_Pkts = 100000                   # Numero de paquetes a simular\n",
        "#T = 100000\n",
        "count = 0                           # Contador de paquetes simulados\n",
        "t = 0\n",
        "N = 0                               # Variable de estado: numero de paquetes en el sistema\n",
        "\n",
        "tll = expovariate(lamda)            # Tiempo de llegada\n",
        "ts = Infinity                       # Tiempo de salida\n",
        "t_evento_anterior = 0.0             # tiempo del último evento ****************Nuevas líneas de código***********\n",
        "\n",
        "# Variables de salida\n",
        "tll_Data = []                       # Lista de tiempos de llegada\n",
        "ts_Data = []                        # Lista de tiempos de salida\n",
        "r_Data = []                         # Lista de retrasos individuales\n",
        "\n",
        "Data = {}                           # Diccionario *****************************************************************\n",
        "\n",
        "while count < Num_Pkts:\n",
        "#while t < T:\n",
        "    if tll < ts:                           # Evento de llegada\n",
        "        t = tll\n",
        "\n",
        "        # longitud del intervalo entre llegadas *********************************************************************\n",
        "        delta = t - t_evento_anterior\n",
        "        if N in Data:\n",
        "            Data[N] += delta\n",
        "        else:\n",
        "            Data[N] = delta\n",
        "        t_evento_anterior = t\n",
        "\n",
        "        tll_Data.append(t)\n",
        "        N = N + 1.0\n",
        "        tll = t + expovariate(lamda)\n",
        "        if N == 1:\n",
        "            ts = t + expovariate(mu)\n",
        "    else:                                         # Evento de salida\n",
        "        t = ts\n",
        "\n",
        "        # Longitud del intervalo de tiempo **************************************************************************\n",
        "        delta = t - t_evento_anterior\n",
        "        if N in Data:\n",
        "            Data[N] += delta\n",
        "        else:\n",
        "            Data[N] = delta\n",
        "        t_evento_anterior = t\n",
        "\n",
        "        ts_Data.append(t)\n",
        "        N = N - 1.0\n",
        "        count = count + 1                         # Paquetes simulados\n",
        "        if N > 0:\n",
        "            ts = t + expovariate(mu)\n",
        "        else:\n",
        "            ts = Infinity\n",
        "\n",
        "##################################### se procesan los datos de salida ########################################\n",
        "\n",
        "# Estimación del retraso promedio:\n",
        "\n",
        "for i in range(Num_Pkts):\n",
        "#for i in range(T):\n",
        "    d = ts_Data[i] - tll_Data[i]\n",
        "    r_Data.append(d)\n",
        "\n",
        "print( \"Retraso promedio = \", round( mean(r_Data), 4) )\n",
        "\n",
        "# Estimación de la probabilidad de P(N=k):\n",
        "for (key, value) in Data.items():\n",
        "    Data[key] = value/t\n",
        "\n",
        "# Se verifica que la probabilidad total es 1.0\n",
        "\n",
        "print('Suma de probabilidades =', sum(Data.values()))\n",
        "\n",
        "# Se verifican los valores de expectación\n",
        "media = 0.0\n",
        "\n",
        "for (key, value) in Data.items():\n",
        "    media = media + key*value\n",
        "    print(key, round(value, 4))\n",
        "print('E[N] = ', media)"
      ]
    },
    {
      "cell_type": "markdown",
      "metadata": {
        "id": "dffoWwcgooDr"
      },
      "source": [
        "### Tarea:\n",
        "\n",
        "Convierta los códigos anteriores para determinar W, L y P(N=k) en una función y usela para resolver los ejercicios propuestos (más tarde por classroom)"
      ]
    },
    {
      "cell_type": "code",
      "execution_count": null,
      "metadata": {
        "id": "e02sN7nMooDr"
      },
      "outputs": [],
      "source": []
    },
    {
      "cell_type": "code",
      "execution_count": null,
      "metadata": {
        "id": "YuOn6tzsooDr"
      },
      "outputs": [],
      "source": []
    },
    {
      "cell_type": "code",
      "execution_count": null,
      "metadata": {
        "id": "KsmtxpNWooDr"
      },
      "outputs": [],
      "source": []
    },
    {
      "cell_type": "code",
      "execution_count": null,
      "metadata": {
        "id": "IDlPtCW3ooDs"
      },
      "outputs": [],
      "source": []
    },
    {
      "cell_type": "code",
      "execution_count": null,
      "metadata": {
        "id": "XYTEsUbxooDs"
      },
      "outputs": [],
      "source": []
    },
    {
      "cell_type": "code",
      "execution_count": null,
      "metadata": {
        "id": "m4LSTHqjooDs"
      },
      "outputs": [],
      "source": []
    },
    {
      "cell_type": "code",
      "execution_count": null,
      "metadata": {
        "id": "JLGT8fEBooDt"
      },
      "outputs": [],
      "source": []
    },
    {
      "cell_type": "code",
      "execution_count": null,
      "metadata": {
        "id": "xyNbt9u9ooDu"
      },
      "outputs": [],
      "source": []
    },
    {
      "cell_type": "code",
      "execution_count": null,
      "metadata": {
        "id": "5zOmBC02ooDu"
      },
      "outputs": [],
      "source": []
    },
    {
      "cell_type": "code",
      "execution_count": null,
      "metadata": {
        "id": "CsWGOv6MooDv"
      },
      "outputs": [],
      "source": []
    },
    {
      "cell_type": "code",
      "execution_count": null,
      "metadata": {
        "id": "5gV0ZkS1ooDv"
      },
      "outputs": [],
      "source": []
    },
    {
      "cell_type": "code",
      "execution_count": null,
      "metadata": {
        "id": "gejOEHV8ooDv"
      },
      "outputs": [],
      "source": [
        "from random import expovariate\n",
        "from statistics import mean, pstdev\n",
        "from math import inf as Infinity\n",
        "from random import seed\n",
        "from matplotlib.pyplot import *\n",
        "from time import time"
      ]
    },
    {
      "cell_type": "markdown",
      "metadata": {
        "id": "0F9MpX4gooDv"
      },
      "source": [
        "Convertimos el código para estimar el tiempo de respuesta del sistema o retraso promedio en una función mm1_W de tres parámetros, que nos devuelve el retraso promedio W. Observar que la salida es un número: el promedio de los datos guardados en r_Data."
      ]
    },
    {
      "cell_type": "code",
      "execution_count": null,
      "metadata": {
        "id": "tyOyfJv8ooDw"
      },
      "outputs": [],
      "source": [
        "def mm1_W(lamda, mu, Num_Pkts):\n",
        "    #Num_Pkts = 100000                   # Numero de paquetes a simular\n",
        "    #T = 100000\n",
        "    count = 0                           # Contador de paquetes simulados\n",
        "    t = 0\n",
        "    N = 0                               # Variable de estado: numero de paquetes en el sistema\n",
        "\n",
        "    tll = expovariate(lamda)            # Tiempo de llegada\n",
        "    ts = Infinity                       # Tiempo de salida\n",
        "\n",
        "    # Variables de salida\n",
        "    tll_Data = []                       # Lista de tiempos de llegada\n",
        "    ts_Data = []                        # Lista de tiempos de salida\n",
        "    r_Data = []                         # Lista de retrasos individuales\n",
        "\n",
        "    while count < Num_Pkts:\n",
        "    #while t < T:\n",
        "        if tll < ts:                           # Evento de llegada\n",
        "            t = tll\n",
        "            tll_Data.append(t)\n",
        "            N = N + 1.0\n",
        "            tll = t + expovariate(lamda)\n",
        "            if N == 1:\n",
        "                ts = t + expovariate(mu)\n",
        "        else:                                         # Evento de salida\n",
        "            t = ts\n",
        "            ts_Data.append(t)\n",
        "            N = N - 1.0\n",
        "            count = count + 1                         # Paquetes simulados\n",
        "            if N > 0:\n",
        "                ts = t + expovariate(mu)\n",
        "            else:\n",
        "                ts = Infinity\n",
        "\n",
        "    # Estimación del retraso promedio:\n",
        "\n",
        "    for i in range(Num_Pkts):\n",
        "    #for i in range(T):\n",
        "        d = ts_Data[i] - tll_Data[i]\n",
        "        r_Data.append(d)\n",
        "\n",
        "    return mean(r_Data)"
      ]
    },
    {
      "cell_type": "markdown",
      "metadata": {
        "id": "SIVQfw5DooDw"
      },
      "source": [
        "Comprobamos que nuestro programa funciona correctamente."
      ]
    },
    {
      "cell_type": "code",
      "execution_count": null,
      "metadata": {
        "id": "XV4biHkaooDw"
      },
      "outputs": [],
      "source": [
        "mm1_W(4.0,6.0,100)"
      ]
    },
    {
      "cell_type": "markdown",
      "metadata": {
        "id": "vHOQV7XlooDx"
      },
      "source": [
        "Ahora podemos meter la función en un bucle y analizar visualmente la variabilidad de los resultados que se obtienen al repetir muchas veces el experimento."
      ]
    },
    {
      "cell_type": "code",
      "execution_count": null,
      "metadata": {
        "id": "aglzb-erooDx"
      },
      "outputs": [],
      "source": [
        "lamda = 4.0\n",
        "mu = 6.0\n",
        "\n",
        "\n",
        "Num_Rep = 100                       # Numero de repeticiones\n",
        "Delay = []                          # Lista de resultados para el retraso promedio W\n",
        "\n",
        "for i in range(Num_Rep):\n",
        "    seed()\n",
        "    d = mm1_W(lamda, mu,1000)\n",
        "    Delay.append(d)\n",
        "\n",
        "# Estimación del promedio de las repeticiones\n",
        "\n",
        "fig = figure(1, figsize=(16,8))\n",
        "plot(Delay, linewidth=2, label='W')\n",
        "axhline(y=mean(Delay), color='red',label='W promedio')\n",
        "axhline(y=mean(Delay) + pstdev(Delay), color='green')\n",
        "axhline(y=mean(Delay) - pstdev(Delay), color='green')\n",
        "title(\"Estimación de W\", color = 'red')\n",
        "xlabel('Número de experimentos')\n",
        "ylabel('W (hrs)')\n",
        "legend()\n",
        "show()\n",
        "\n",
        "\n",
        "print(\"Retraso promedio W = \" , round( mean(Delay), 4) )\n",
        "print(\"Con un error de =\", round(pstdev(Delay), 4))\n",
        "print(\"W está entre:\" , round(mean(Delay) - pstdev(Delay), 4), \"y\", round(mean(Delay) + pstdev(Delay), 4) )"
      ]
    },
    {
      "cell_type": "markdown",
      "metadata": {
        "id": "_IOqe2MCooDy"
      },
      "source": [
        "Surgen de manera natural algunas preguntas:\n",
        "\n",
        "* ¿Cuántos experimentos debemos realizar antes de reportar un resultado?\n",
        "* ¿De qué manera depende el resultado de los experimentos del tiempo total/número de paquetes simulados?\n",
        "* ¿Cómo construir y mejorar el intervalo de confianza de nuestros resultados?"
      ]
    },
    {
      "cell_type": "markdown",
      "metadata": {
        "id": "nkjf4FZxooDy"
      },
      "source": [
        "## Estado transitorio y estado estable"
      ]
    },
    {
      "cell_type": "markdown",
      "metadata": {
        "id": "hF2qQ3tKooDy"
      },
      "source": [
        "Usaremos la misma función mm1_W pero ahora pediremos que devuelva la lista de datos completos, no solamente la media."
      ]
    },
    {
      "cell_type": "code",
      "execution_count": null,
      "metadata": {
        "id": "3Aw3awLeooDy"
      },
      "outputs": [],
      "source": [
        "def mm1_W(lamda, mu, Num_Pkts):\n",
        "    #Num_Pkts = 100000                   # Numero de paquetes a simular\n",
        "    #T = 100000\n",
        "    count = 0                           # Contador de paquetes simulados\n",
        "    t = 0\n",
        "    N = 0                               # Variable de estado: numero de paquetes en el sistema\n",
        "\n",
        "    tll = expovariate(lamda)            # Tiempo de llegada\n",
        "    ts = Infinity                       # Tiempo de salida\n",
        "\n",
        "    # Variables de salida\n",
        "    tll_Data = []                       # Lista de tiempos de llegada\n",
        "    ts_Data = []                        # Lista de tiempos de salida\n",
        "    r_Data = []                         # Lista de retrasos individuales\n",
        "\n",
        "    while count < Num_Pkts:\n",
        "    #while t < T:\n",
        "        if tll < ts:                           # Evento de llegada\n",
        "            t = tll\n",
        "            tll_Data.append(t)\n",
        "            N = N + 1.0\n",
        "            tll = t + expovariate(lamda)\n",
        "            if N == 1:\n",
        "                ts = t + expovariate(mu)\n",
        "        else:                                         # Evento de salida\n",
        "            t = ts\n",
        "            ts_Data.append(t)\n",
        "            N = N - 1.0\n",
        "            count = count + 1                         # Paquetes simulados\n",
        "            if N > 0:\n",
        "                ts = t + expovariate(mu)\n",
        "            else:\n",
        "                ts = Infinity\n",
        "\n",
        "    # Estimación del retraso promedio:\n",
        "\n",
        "    for i in range(Num_Pkts):\n",
        "    #for i in range(T):\n",
        "        d = ts_Data[i] - tll_Data[i]\n",
        "        r_Data.append(d)\n",
        "\n",
        "    return r_Data"
      ]
    },
    {
      "cell_type": "markdown",
      "metadata": {
        "id": "JerZcrkvooDz"
      },
      "source": [
        "Ahora definiremos una nueva función que ejecuté mm1_W y vaya actualizando los promedios de las salidas."
      ]
    },
    {
      "cell_type": "code",
      "execution_count": null,
      "metadata": {
        "id": "I-CbH8-JooDz"
      },
      "outputs": [],
      "source": [
        "def mm1_W_cum(lamda, mu, Num_Pkts):\n",
        "    Delay = mm1_W(lamda, mu, Num_Pkts)\n",
        "    Delay_Cum = []\n",
        "    for i in range(Num_Pkts):\n",
        "        Delay_Cum.append( sum(Delay[0:i+1])/(i+1) )\n",
        "\n",
        "    return Delay_Cum"
      ]
    },
    {
      "cell_type": "markdown",
      "metadata": {
        "id": "M5RHY75rooD0"
      },
      "source": [
        "Esto nos permitirá implementar un método sencillo para determinar visulmente un punto de división entre los estados transitorio y estable."
      ]
    },
    {
      "cell_type": "markdown",
      "metadata": {
        "id": "GmCraEGFooD0"
      },
      "source": [
        "### Método de Welch"
      ]
    },
    {
      "cell_type": "markdown",
      "metadata": {
        "id": "Hy2RnLTyooD0"
      },
      "source": [
        "1. Para cada variable de salida correr la simulación al menos 5 veces, cada una de tamaño $m$.\n",
        "\n",
        "2. Calcular el promedio $Z$ de las realizaciones del paso 1.\n",
        "\n",
        "3. Graficar la secuencia $Z$.\n",
        "\n",
        "4. Elija el punto de corte. En el estado estable la gráfica de $Z$ es plana."
      ]
    },
    {
      "cell_type": "code",
      "execution_count": null,
      "metadata": {
        "id": "dw1j2MnQooD0"
      },
      "outputs": [],
      "source": [
        "lamda = 4.0\n",
        "mu = 6.0\n",
        "\n",
        "n = 10000                         # Número de clientes/paquetes simulados\n",
        "R = 5                             # Número de repeticiones\n",
        "\n",
        "Y =  np.zeros( shape = (R, n) )   # Variable de salida W\n",
        "\n",
        "# Generamos las muestras/repeticiones\n",
        "for i in range(R):\n",
        "    seed()\n",
        "    Y[i] = mm1_W_cum(lamda, mu, n)\n",
        "\n",
        "# Calculamos la media\n",
        "Z = []\n",
        "for i in range(n):\n",
        "    Z.append( sum(Y[:,i]) / R )\n",
        "\n",
        "# Graficamos Y y Z\n",
        "fig = figure(1, figsize=(12, 8))\n",
        "plot(Y[0], \"k--\", label=\"Y[0]\", color='blue')\n",
        "plot(Y[1], \"k--\", label=\"Y[1]\", color='green')\n",
        "plot(Y[2], \"k--\", label=\"Y[2]\", color='red')\n",
        "plot(Y[3], \"k--\", label=\"Y[3]\", color='magenta')\n",
        "plot(Y[4], \"k--\", label=\"Y[4]\", color='cyan')\n",
        "plot(Z, \"k\", linewidth=2, label=\"Z\")\n",
        "\n",
        "\n",
        "xlabel(\"$n$\", size=16)\n",
        "ylabel(\"$W_{cum}$\", size=16)\n",
        "legend(loc='upper right', shadow=True)\n",
        "show()"
      ]
    },
    {
      "cell_type": "markdown",
      "metadata": {
        "id": "E9p0XiIAooD1"
      },
      "source": [
        "### Ejercicio (01/04/22):\n",
        "\n",
        "Elija el punto de corte, agregue las líneas de código necesarias para graficar una línea vertical y rotular el punto de corte."
      ]
    },
    {
      "cell_type": "markdown",
      "metadata": {
        "id": "CDfvf2r9ooD1"
      },
      "source": [
        "### Tarea:\n",
        "\n",
        "Determinar los puntos de corte para la función que nos da $L$."
      ]
    },
    {
      "cell_type": "code",
      "execution_count": null,
      "metadata": {
        "id": "RwjeaSCXooD1"
      },
      "outputs": [],
      "source": []
    }
  ],
  "metadata": {
    "kernelspec": {
      "display_name": "Python 3",
      "language": "python",
      "name": "python3"
    },
    "language_info": {
      "codemirror_mode": {
        "name": "ipython",
        "version": 3
      },
      "file_extension": ".py",
      "mimetype": "text/x-python",
      "name": "python",
      "nbconvert_exporter": "python",
      "pygments_lexer": "ipython3",
      "version": "3.7.3"
    },
    "colab": {
      "provenance": []
    }
  },
  "nbformat": 4,
  "nbformat_minor": 0
}